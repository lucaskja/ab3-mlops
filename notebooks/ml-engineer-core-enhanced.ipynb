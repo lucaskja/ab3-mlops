{
 "cells": [
  {
   "cell_type": "markdown",
   "metadata": {},
   "source": [
    "# ML Engineer Core Workflow with MLFlow and Model Registry\n",
    "\n",
    "This notebook provides enhanced functionality for ML Engineers to execute and manage YOLOv11 training pipelines with MLFlow experiment tracking and SageMaker Model Registry integration.\n",
    "\n",
    "## Workflow Overview\n",
    "\n",
    "1. **Pipeline Configuration**: Set up YOLOv11 training pipeline parameters\n",
    "2. **Pipeline Execution**: Execute the training pipeline with MLFlow tracking\n",
    "3. **Pipeline Monitoring**: Monitor training progress and results\n",
    "4. **Model Registration**: Register trained models in SageMaker Model Registry\n",
    "5. **Model Management**: Manage model versions and approval workflows\n",
    "\n",
    "## Prerequisites\n",
    "\n",
    "- AWS account with appropriate permissions\n",
    "- AWS CLI configured with \"ab\" profile\n",
    "- SageMaker Studio access with ML Engineer role\n",
    "- Access to the drone imagery dataset in S3 bucket: `lucaskle-ab3-project-pv`\n",
    "- Labeled data in YOLOv11 format\n",
    "- SageMaker managed MLFlow tracking server\n",
    "\n",
    "Let's start by importing the necessary libraries and setting up our environment."
   ]
  },
  {
   "cell_type": "code",
   "execution_count": null,
   "metadata": {},
   "outputs": [],
   "source": [
    "import os\n",
    "import boto3\n",
    "import sagemaker\n",
    "import pandas as pd\n",
    "import numpy as np\n",
    "import matplotlib.pyplot as plt\n",
    "from datetime import datetime\n",
    "import json\n",
    "import time\n",
    "from IPython.display import display, HTML\n",
    "import mlflow\n",
    "import mlflow.sagemaker\n",
    "from sagemaker.model_registry import ModelPackage\n",
    "from sagemaker.model_registry.model_registry import ModelRegistry\n",
    "\n",
    "# Set up AWS session with \"ab\" profile\n",
    "session = boto3.Session(profile_name='ab')\n",
    "sagemaker_session = sagemaker.Session(boto_session=session)\n",
    "sagemaker_client = session.client('sagemaker')\n",
    "region = session.region_name\n",
    "account_id = session.client('sts').get_caller_identity()['Account']\n",
    "\n",
    "# Set up MLFlow tracking\n",
    "# Get SageMaker managed MLFlow tracking server URI\n",
    "mlflow_tracking_uri = f\"https://{region}.console.aws.amazon.com/sagemaker/home?region={region}#/mlflow\"\n",
    "mlflow.set_tracking_uri(mlflow_tracking_uri)\n",
    "\n",
    "# Set up visualization\n",
    "plt.rcParams[\"figure.figsize\"] = (12, 6)\n",
    "\n",
    "# Define bucket name and role\n",
    "BUCKET_NAME = 'lucaskle-ab3-project-pv'\n",
    "ROLE_ARN = sagemaker_session.get_caller_identity_arn()\n",
    "\n",
    "# Model Registry configuration\n",
    "MODEL_PACKAGE_GROUP_NAME = \"yolov11-drone-detection-models\"\n",
    "\n",
    "print(f\"Data Bucket: {BUCKET_NAME}\")\n",
    "print(f\"Region: {region}\")\n",
    "print(f\"Account ID: {account_id}\")\n",
    "print(f\"Role ARN: {ROLE_ARN}\")\n",
    "print(f\"MLFlow Tracking URI: {mlflow_tracking_uri}\")\n",
    "print(f\"Model Package Group: {MODEL_PACKAGE_GROUP_NAME}\")"
   ]
  }
 ],
 "metadata": {
  "kernelspec": {
   "display_name": "Python 3",
   "language": "python",
   "name": "python3"
  },
  "language_info": {
   "codemirror_mode": {
    "name": "ipython",
    "version": 3
   },
   "file_extension": ".py",
   "mimetype": "text/x-python",
   "name": "python",
   "nbconvert_exporter": "python",
   "pygments_lexer": "ipython3",
   "version": "3.8.10"
  }
 },
 "nbformat": 4,
 "nbformat_minor": 4
}